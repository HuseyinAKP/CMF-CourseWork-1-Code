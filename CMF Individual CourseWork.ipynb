{
 "cells": [
  {
   "cell_type": "code",
   "execution_count": 10,
   "id": "c7f54355",
   "metadata": {},
   "outputs": [],
   "source": [
    "import yfinance as yf\n",
    "import numpy as np\n",
    "import pandas as pd\n",
    "import matplotlib.pyplot as plt\n",
    "import scipy.stats as si\n",
    "from mpl_toolkits.mplot3d import Axes3D"
   ]
  },
  {
   "cell_type": "code",
   "execution_count": null,
   "id": "7348c762",
   "metadata": {},
   "outputs": [],
   "source": [
    "tesla_data = yf.download('TSLA', start='2022-04-11', end='2024-04-11')"
   ]
  },
  {
   "cell_type": "code",
   "execution_count": null,
   "id": "b7c6fdc0",
   "metadata": {},
   "outputs": [],
   "source": [
    "plt.figure(figsize=(14, 7))\n",
    "plt.plot(tesla_data['Close'], label='Tesla Closing Price')\n",
    "plt.title('Tesla Equity Price Movement Over the Last Two Years')\n",
    "plt.xlabel('Date')\n",
    "plt.ylabel('Price (USD)')\n",
    "plt.legend()\n",
    "plt.grid(True)\n",
    "plt.show()"
   ]
  },
  {
   "cell_type": "code",
   "execution_count": null,
   "id": "bec698bf",
   "metadata": {},
   "outputs": [],
   "source": [
    "daily_returns = tesla_data['Close'].pct_change().dropna()\n",
    "average_daily_return = daily_returns.mean()\n",
    "annualized_avg_return = (1 + average_daily_return) ** 252 - 1  # 252 trading days in a year\n",
    "\n",
    "annualized_std_dev = daily_returns.std() * np.sqrt(252)\n",
    "\n",
    "print(f\"Annualized Average Return: {annualized_avg_return}\")\n",
    "print(f\"Annualized Standard Deviation: {annualized_std_dev}\")"
   ]
  },
  {
   "cell_type": "code",
   "execution_count": null,
   "id": "850801a3",
   "metadata": {},
   "outputs": [],
   "source": [
    "tesla_data.describe().round(2)"
   ]
  },
  {
   "cell_type": "code",
   "execution_count": null,
   "id": "22c7ba93",
   "metadata": {},
   "outputs": [],
   "source": [
    "S0 = 800  # Initial stock price, e.g., Tesla's current stock price\n",
    "K = 850   # Strike price\n",
    "T = 1     # Time to maturity in years\n",
    "r = 0.02  # Risk-free rate\n",
    "sigma = 0.48  # Volatility (annualized standard deviation)\n",
    "N = 3  # Number of steps in the binomial treeÜ\n",
    "payoff = \"put\"          # payoff "
   ]
  },
  {
   "cell_type": "code",
   "execution_count": null,
   "id": "f796c740",
   "metadata": {},
   "outputs": [],
   "source": [
    "dT = float(T) / N                             # Delta t\n",
    "u = np.exp(sig * np.sqrt(dT))                 # up factor\n",
    "d = 1.0 / u   "
   ]
  },
  {
   "cell_type": "code",
   "execution_count": null,
   "id": "f2c4283c",
   "metadata": {},
   "outputs": [],
   "source": [
    "S = np.zeros((N + 1, N + 1))\n",
    "S[0, 0] = S0\n",
    "z = 1\n",
    "for t in range(1, N + 1): #looping forwards, from 1 to N\n",
    "    for i in range(z):  #looping forwards, from 0 to z-1\n",
    "        S[i, t] = S[i, t-1] * u\n",
    "        S[i+1, t] = S[i, t-1] * d\n",
    "    z += 1  # same as z=z+1"
   ]
  },
  {
   "cell_type": "code",
   "execution_count": null,
   "id": "4a28028a",
   "metadata": {},
   "outputs": [],
   "source": [
    "S"
   ]
  },
  {
   "cell_type": "code",
   "execution_count": null,
   "id": "68be00b3",
   "metadata": {},
   "outputs": [],
   "source": [
    "a = np.exp(r * dT)    # risk free compound return\n",
    "p = (a - d)/ (u - d)  # risk neutral up probability\n",
    "q = 1.0 - p           # risk neutral down probability\n",
    "p"
   ]
  },
  {
   "cell_type": "code",
   "execution_count": null,
   "id": "9ccf0313",
   "metadata": {},
   "outputs": [],
   "source": [
    "S_T = S[:,-1]\n",
    "V = np.zeros((N + 1, N + 1))\n",
    "if payoff ==\"call\":\n",
    "    V[:,-1] = np.maximum(S_T-K, 0.0)\n",
    "elif payoff ==\"put\":\n",
    "    V[:,-1] = np.maximum(K-S_T, 0.0)\n",
    "V"
   ]
  },
  {
   "cell_type": "code",
   "execution_count": null,
   "id": "ca19738f",
   "metadata": {},
   "outputs": [],
   "source": [
    "# for European Option\n",
    "for j in range(N-1, -1, -1): # Column. looping backwards. From N-1 to 0\n",
    "    for i in range(j+1):  # Row. looping forwards. From 0 to j\n",
    "        V[i,j] = np.exp(-r*dT) * (p * V[i,j + 1] + q * V[i + 1,j + 1]) #the theoretical value at each node.\n",
    "V"
   ]
  },
  {
   "cell_type": "code",
   "execution_count": null,
   "id": "bbde649f",
   "metadata": {},
   "outputs": [],
   "source": [
    "print('European ' + payoff, str( V[0,0]))"
   ]
  },
  {
   "cell_type": "code",
   "execution_count": null,
   "id": "d7c47c87",
   "metadata": {},
   "outputs": [],
   "source": [
    "def mcs_simulation_np(p):\n",
    "    M = p\n",
    "    I = p\n",
    "    dt = T / M \n",
    "    S = np.zeros((M + 1, I))\n",
    "    S[0] = S0 \n",
    "    rn = np.random.standard_normal(S.shape) \n",
    "    for t in range(1, M + 1): \n",
    "        S[t] = S[t-1] * np.exp((r - sigma ** 2 / 2) * dt + sigma * np.sqrt(dt) * rn[t])    \n",
    "        # Price process, see Hilpisch (2015) chapter 1 (equation 1-1) & chapter 3 (equation 3-6)\n",
    "    return S"
   ]
  },
  {
   "cell_type": "code",
   "execution_count": null,
   "id": "9e0b548a",
   "metadata": {},
   "outputs": [],
   "source": [
    "S0 = 800               # spot stock price\n",
    "K = 850               # strike\n",
    "T = 1.0                 # maturity \n",
    "r = 0.02                 # risk free rate \n",
    "sigma = 0.48 "
   ]
  },
  {
   "cell_type": "code",
   "execution_count": null,
   "id": "bd53b915",
   "metadata": {},
   "outputs": [],
   "source": [
    "S = mcs_simulation_np(1000)"
   ]
  },
  {
   "cell_type": "code",
   "execution_count": null,
   "id": "bdf2906f",
   "metadata": {},
   "outputs": [],
   "source": [
    "S = np.transpose(S)\n",
    "S"
   ]
  },
  {
   "cell_type": "code",
   "execution_count": null,
   "id": "0493aa93",
   "metadata": {},
   "outputs": [],
   "source": [
    "import matplotlib.pyplot as plt\n",
    "n, bins, patches = plt.hist(x=S[:,-1], bins='auto', color='#0504aa',alpha=0.7, rwidth=0.85)\n",
    "\n",
    "plt.grid(axis='y', alpha=0.75)\n",
    "plt.xlabel('S_T')\n",
    "plt.ylabel('Frequency')\n",
    "plt.title('Frequency distribution of the simulated end-of-preiod values')"
   ]
  },
  {
   "cell_type": "code",
   "execution_count": null,
   "id": "21a19256",
   "metadata": {},
   "outputs": [],
   "source": [
    "p = np.exp(-r*T)*np.mean(np.maximum(K - S[:,-1],0))\n",
    "print('European put', str(p))"
   ]
  },
  {
   "cell_type": "code",
   "execution_count": null,
   "id": "f221d099",
   "metadata": {},
   "outputs": [],
   "source": [
    "c = np.exp(-r*T)*np.mean(np.maximum(S[:,-1] - K,0))\n",
    "print('European call', str(c))"
   ]
  },
  {
   "cell_type": "code",
   "execution_count": null,
   "id": "6fc4d2c3",
   "metadata": {},
   "outputs": [],
   "source": [
    "def delta(S, K, T, r, vol, payoff):\n",
    "    \n",
    "    d1 = (np.log(S / K) + (r + 0.5 * vol ** 2) * T) / (vol * np.sqrt(T))\n",
    "    d2 = (np.log(S / K) + (r - 0.5 * vol ** 2) * T) / (vol * np.sqrt(T))\n",
    "    if payoff == \"call\":\n",
    "        delta = si.norm.cdf(d1, 0.0, 1.0)\n",
    "    elif payoff == \"put\":\n",
    "        delta = si.norm.cdf(d1, 0.0, 1.0) - 1\n",
    "    \n",
    "    return delta"
   ]
  },
  {
   "cell_type": "code",
   "execution_count": null,
   "id": "11471035",
   "metadata": {},
   "outputs": [],
   "source": [
    "S = np.linspace(600, 1000, 400)\n",
    "T = np.linspace(0.5, 2, 51)\n",
    "Delta = np.zeros((len(T),len(S)))\n",
    "for j in range(len(S)):\n",
    "    for i in range(len(T)):\n",
    "        Delta[i,j] = delta(S[j], 850, T[i], 0.02, 0.48, 'call')"
   ]
  },
  {
   "cell_type": "code",
   "execution_count": null,
   "id": "845fd406",
   "metadata": {},
   "outputs": [],
   "source": [
    "fig = plt.figure(figsize=(10, 6))\n",
    "ax = fig.add_subplot(projection = '3d')\n",
    "S, T = np.meshgrid(S, T)\n",
    "surf = ax.plot_surface(S, T, Delta, rstride=2, cstride=2, cmap=plt.cm.coolwarm, linewidth=0.5, antialiased=True)\n",
    "#rstride: the array of row stride (step size) cstride: the array of column stride.\n",
    "ax.set_xlabel('Stock Price')\n",
    "ax.set_ylabel('Time to Expiry')\n",
    "ax.set_zlabel('Delta')\n",
    "fig.colorbar(surf, shrink=0.5, aspect=5);"
   ]
  },
  {
   "cell_type": "code",
   "execution_count": null,
   "id": "969cd79a",
   "metadata": {},
   "outputs": [],
   "source": [
    "d = delta(800, 850, 1, 0.02, 0.48, 'call')\n",
    "print('The value of Delta is', d.round(4),'.','If the stock price increase 1 dollar, then the value of the option will increase $', d.round(4), '.')"
   ]
  },
  {
   "cell_type": "code",
   "execution_count": null,
   "id": "f393cfcc",
   "metadata": {},
   "outputs": [],
   "source": [
    "def gamma(S, K, T, r,  vol, payoff):\n",
    "    \n",
    "    d1 = (np.log(S / K) + (r  + 0.5 * vol ** 2) * T) / (vol * np.sqrt(T))\n",
    "\n",
    "    gamma = si.norm.pdf(d1, 0.0, 1.0) / (vol *  np.sqrt(T) * S)\n",
    "\n",
    "    \n",
    "    \n",
    "    return gamma"
   ]
  },
  {
   "cell_type": "code",
   "execution_count": null,
   "id": "3707bddb",
   "metadata": {},
   "outputs": [],
   "source": [
    "S = np.linspace(600, 1000, 400)\n",
    "T = np.linspace(0.5, 2, 51)\n",
    "Gamma = np.zeros((len(T),len(S)))\n",
    "for j in range(len(S)):\n",
    "    for i in range(len(T)):\n",
    "        Gamma[i,j] = gamma(S[j], 850, T[i], 0.02, 0.48, 'call')"
   ]
  },
  {
   "cell_type": "code",
   "execution_count": null,
   "id": "5dc8f43e",
   "metadata": {},
   "outputs": [],
   "source": [
    "fig = plt.figure(figsize=(10, 6))\n",
    "ax = fig.add_subplot(projection = '3d')\n",
    "S, T = np.meshgrid(S, T)\n",
    "surf = ax.plot_surface(S, T, Gamma, rstride=2, cstride=2, cmap=plt.cm.coolwarm, linewidth=0.5, antialiased=True)\n",
    "ax.set_xlabel('Stock Price')\n",
    "ax.set_ylabel('Time to Expiry')\n",
    "ax.set_zlabel('Gamma')\n",
    "fig.colorbar(surf, shrink=0.5, aspect=5);"
   ]
  },
  {
   "cell_type": "code",
   "execution_count": null,
   "id": "f681c584",
   "metadata": {},
   "outputs": [],
   "source": [
    "g = gamma(800, 850, 1, 0.02, 0.48, 'call')\n",
    "print('The value of Gamma is', g.round(4),'.','If the volatility increases 1%, then the value of the option will increase $', g.round(4)*0.01, '.')"
   ]
  },
  {
   "cell_type": "code",
   "execution_count": null,
   "id": "fbee7f08",
   "metadata": {},
   "outputs": [],
   "source": [
    "def theta(S, K, T, r, vol, payoff):\n",
    "    \n",
    "    d1 = (np.log(S / K) + (r + 0.5 * vol ** 2) * T) / (vol * np.sqrt(T))\n",
    "    d2 = (np.log(S / K) + (r - 0.5 * vol ** 2) * T) / (vol * np.sqrt(T))\n",
    "    N_d1_prime=1/np.sqrt(2 * np.pi) * np.exp(-d1**2/2)\n",
    "    \n",
    "    if payoff == \"call\":\n",
    "        theta = - S * N_d1_prime * vol / (2 * np.sqrt(T)) - r * K * np.exp(-r * T) * si.norm.cdf(d2, 0.0, 1.0)\n",
    "    elif payoff == \"put\":\n",
    "        theta = - S * N_d1_prime * vol / (2 * np.sqrt(T)) + r * K * np.exp(-r * T) * si.norm.cdf(-d2, 0.0, 1.0)\n",
    "    \n",
    "    return theta"
   ]
  },
  {
   "cell_type": "code",
   "execution_count": null,
   "id": "f73a1215",
   "metadata": {},
   "outputs": [],
   "source": [
    "S = np.linspace(600, 1000, 400)\n",
    "T = np.linspace(0.5, 2, 51)\n",
    "Theta = np.zeros((len(T),len(S)))\n",
    "for j in range(len(S)):\n",
    "    for i in range(len(T)):\n",
    "        Theta[i,j] = theta(S[j], 850, T[i], 0.02, 0.48, 'call')"
   ]
  },
  {
   "cell_type": "code",
   "execution_count": null,
   "id": "3c234493",
   "metadata": {},
   "outputs": [],
   "source": [
    "fig = plt.figure(figsize=(10, 6))\n",
    "ax = fig.add_subplot(projection = '3d')\n",
    "S, T = np.meshgrid(S, T)\n",
    "surf = ax.plot_surface(S, T, Theta, rstride=2, cstride=2, cmap=plt.cm.coolwarm, linewidth=0.5, antialiased=True)\n",
    "ax.set_xlabel('Stock Price')\n",
    "ax.set_ylabel('Time to Expiry')\n",
    "ax.set_zlabel('Theta')\n",
    "fig.colorbar(surf, shrink=0.5, aspect=5);"
   ]
  },
  {
   "cell_type": "code",
   "execution_count": null,
   "id": "f489c420",
   "metadata": {},
   "outputs": [],
   "source": [
    "t = theta(800, 850, 1, 0.02, 0.48, 'call')\n",
    "print('The value of Theta is', t.round(4),'.','If the volatility increases 1%, then the value of the option will increase $', t.round(4)*0.01, '.')"
   ]
  },
  {
   "cell_type": "code",
   "execution_count": null,
   "id": "3d6f334c",
   "metadata": {},
   "outputs": [],
   "source": [
    "def vega(S, K, T, r, vol, payoff):\n",
    "    \n",
    "    d1 = (np.log(S / K) + (r + 0.5 * vol ** 2) * T) / (vol * np.sqrt(T))\n",
    "    N_d1_prime=1/np.sqrt(2 * np.pi) * np.exp(-d1**2/2)\n",
    "    vega = S * np.sqrt(T) * N_d1_prime\n",
    "    \n",
    "    return vega"
   ]
  },
  {
   "cell_type": "code",
   "execution_count": null,
   "id": "4bc7e717",
   "metadata": {},
   "outputs": [],
   "source": [
    "S = np.linspace(600, 1000, 400)\n",
    "T = np.linspace(0.5, 2, 51)\n",
    "Vega = np.zeros((len(T),len(S)))\n",
    "for j in range(len(S)):\n",
    "    for i in range(len(T)):\n",
    "        Vega[i,j] = vega(S[j], 850, T[i], 0.02, 0.48, 'call')"
   ]
  },
  {
   "cell_type": "code",
   "execution_count": null,
   "id": "1d36bd43",
   "metadata": {},
   "outputs": [],
   "source": [
    "fig = plt.figure(figsize=(10, 6))\n",
    "ax = fig.add_subplot(projection = '3d')\n",
    "S, T = np.meshgrid(S, T)\n",
    "surf = ax.plot_surface(S, T, Vega, rstride=2, cstride=2, cmap=plt.cm.coolwarm, linewidth=0.5, antialiased=True)\n",
    "ax.set_xlabel('Stock Price')\n",
    "ax.set_ylabel('Time to Expiry')\n",
    "ax.set_zlabel('Vega')\n",
    "fig.colorbar(surf, shrink=0.5, aspect=5);"
   ]
  },
  {
   "cell_type": "code",
   "execution_count": null,
   "id": "6d203188",
   "metadata": {},
   "outputs": [],
   "source": [
    "v = vega(800, 850, 1, 0.02, 0.48, 'call')\n",
    "print('The value of Vega is', v.round(4),'.','If the volatility increases 1%, then the value of the option will increase $', v.round(4)*0.01, '.')"
   ]
  },
  {
   "cell_type": "code",
   "execution_count": null,
   "id": "fef1550d",
   "metadata": {},
   "outputs": [],
   "source": [
    "import numpy as np\n",
    "import matplotlib.pyplot as plt\n",
    "\n",
    "# Parameters\n",
    "S0 = 800    # Initial stock price\n",
    "K = 850     # Strike price\n",
    "T = 1       # Time to expiry\n",
    "n = 3       # Number of steps in the binomial tree\n",
    "r = 0.02    # Risk-free interest rate per year\n",
    "sigma = 0.48 # Volatility of the underlying asset\n",
    "dt = T / n  # Length of each time step\n",
    "u = np.exp(sigma * np.sqrt(dt))  # Up factor per time step\n",
    "d = np.exp(-sigma * np.sqrt(dt))  # Down factor per time step\n",
    "\n",
    "# Initialize the arrays to store stock prices and option values\n",
    "stock_prices = np.zeros((n+1, n+1))\n",
    "option_values = np.zeros((n+1, n+1))\n",
    "\n",
    "# Generate stock prices in the binomial tree\n",
    "for i in range(n+1):\n",
    "    for j in range(i+1):\n",
    "        stock_prices[j, i] = S0 * (u ** (i - j)) * (d ** j)\n",
    "\n",
    "# Calculate the option values at expiry (European call option)\n",
    "option_values[:, n] = np.maximum(stock_prices[:, n] - K, 0)\n",
    "\n",
    "# Backward induction for option valuation\n",
    "for i in range(n-1, -1, -1):\n",
    "    for j in range(i+1):\n",
    "        option_values[j, i] = np.exp(-r * dt) * (option_values[j, i+1] * u + option_values[j+1, i+1] * d) / (u + d)\n",
    "\n",
    "# Plotting the binomial tree\n",
    "fig, ax = plt.subplots(figsize=(10, 6))\n",
    "for i in range(n):\n",
    "    for j in range(i+1):\n",
    "        if j < i+1:\n",
    "            ax.plot([i, i+1], [stock_prices[j, i], stock_prices[j, i+1]], 'bo-', linewidth=2, markersize=8)\n",
    "            ax.plot([i, i+1], [stock_prices[j, i], stock_prices[j+1, i+1]], 'bo-', linewidth=2, markersize=8)\n",
    "\n",
    "# Annotating the final prices and option values\n",
    "for i in range(n+1):\n",
    "    for j in range(i+1):\n",
    "        ax.annotate(f'{stock_prices[j, i]:.2f}', (i, stock_prices[j, i]), textcoords=\"offset points\", xytext=(0,10), ha='center')\n",
    "        if i == n:\n",
    "            ax.annotate(f'({option_values[j, i]:.2f})', (i, stock_prices[j, i]), textcoords=\"offset points\", xytext=(0,-15), ha='center')\n",
    "\n",
    "ax.set_title('European Call Option Pricing: Binomial Tree')\n",
    "ax.set_xlabel('Time Steps')\n",
    "ax.set_ylabel('Stock Price and Option Value')\n",
    "plt.grid(True)\n",
    "plt.show()\n"
   ]
  },
  {
   "cell_type": "code",
   "execution_count": null,
   "id": "e99ea319",
   "metadata": {},
   "outputs": [],
   "source": [
    "def delta(S, K, T, r, vol, payoff):\n",
    "    \n",
    "    d1 = (np.log(S / K) + (r + 0.5 * vol ** 2) * T) / (vol * np.sqrt(T))\n",
    "    if payoff == \"call\":\n",
    "        delta = si.norm.cdf(d1, 0.0, 1.0)\n",
    "    elif payoff == \"put\":\n",
    "        delta =  si.norm.cdf(d1, 0.0, 1.0)-1\n",
    "    \n",
    "    return delta"
   ]
  },
  {
   "cell_type": "code",
   "execution_count": null,
   "id": "e5791f44",
   "metadata": {},
   "outputs": [],
   "source": [
    "S = np.linspace(600, 1000, 400)\n",
    "Delta_Call = np.zeros((len(S),1))\n",
    "Delta_Put = np.zeros((len(S),1))\n",
    "for i in range(len(S)):\n",
    "    Delta_Call [i] = delta(S[i], 850, 1, 0.02, 0.48, 'call')\n",
    "    Delta_Put [i] = delta(S[i], 850, 1, 0.02, 0.48, 'put')"
   ]
  },
  {
   "cell_type": "code",
   "execution_count": null,
   "id": "be1e8a2a",
   "metadata": {},
   "outputs": [],
   "source": [
    "fig = plt.figure()\n",
    "plt.plot(S, Delta_Call, '-')\n",
    "plt.plot(S, Delta_Put, '--')\n",
    "plt.grid()\n",
    "plt.xlabel('Stock Price')\n",
    "plt.ylabel('Delta')\n",
    "plt.title('Delta')\n",
    "plt.legend(['Delta for Call','Delta for Put'])"
   ]
  },
  {
   "cell_type": "code",
   "execution_count": null,
   "id": "b190448e",
   "metadata": {},
   "outputs": [],
   "source": [
    "def gamma(S, K, T, r,  vol, payoff):\n",
    "    \n",
    "    d1 = (np.log(S / K) + (r  + 0.5 * vol ** 2) * T) / (vol * np.sqrt(T))\n",
    "\n",
    "    gamma = si.norm.pdf(d1, 0.0, 1.0) / (vol *  np.sqrt(T) * S)\n",
    "\n",
    "    \n",
    "    return gamma"
   ]
  },
  {
   "cell_type": "code",
   "execution_count": null,
   "id": "84c3fbdd",
   "metadata": {},
   "outputs": [],
   "source": [
    "S = np.linspace(600, 1000, 400)\n",
    "Gamma = np.zeros((len(S),1))\n",
    "for i in range(len(S)):\n",
    "    Gamma [i] = gamma(S[i], 850, 1, 0.02, 0.48, 'call')"
   ]
  },
  {
   "cell_type": "code",
   "execution_count": null,
   "id": "0685062a",
   "metadata": {},
   "outputs": [],
   "source": [
    "fig = plt.figure()\n",
    "plt.plot(S, Gamma, '-')\n",
    "plt.grid()\n",
    "plt.xlabel('Stock Price')\n",
    "plt.ylabel('Gamma')\n",
    "plt.title('Gamma')\n",
    "plt.legend(['Gamma for Call and Put'])"
   ]
  },
  {
   "cell_type": "code",
   "execution_count": null,
   "id": "5d1185f7",
   "metadata": {},
   "outputs": [],
   "source": [
    "def theta(S, K, T, r, vol, payoff):\n",
    "    \n",
    "    d1 = (np.log(S / K) + (r + 0.5 * vol ** 2) * T) / (vol * np.sqrt(T))\n",
    "    d2 = (np.log(S / K) + (r - 0.5 * vol ** 2) * T) / (vol * np.sqrt(T))\n",
    "    N_d1_prime=1/np.sqrt(2 * np.pi) * np.exp(-d1**2/2)\n",
    "    \n",
    "    if payoff == \"call\":\n",
    "        theta = - S * N_d1_prime * vol / (2 * np.sqrt(T)) - r * K * np.exp(-r * T) * si.norm.cdf(d2, 0.0, 1.0)\n",
    "    elif payoff == \"put\":\n",
    "        theta = - S * N_d1_prime * vol / (2 * np.sqrt(T)) + r * K * np.exp(-r * T) * si.norm.cdf(-d2, 0.0, 1.0)\n",
    "    \n",
    "    return theta"
   ]
  },
  {
   "cell_type": "code",
   "execution_count": null,
   "id": "38542476",
   "metadata": {},
   "outputs": [],
   "source": [
    "T = np.linspace(0.25,3,12)\n",
    "Theta_Call = np.zeros((len(T),1))\n",
    "Theta_Put = np.zeros((len(T),1))\n",
    "for i in range(len(T)):\n",
    "    Theta_Call [i] = theta(800, 850, T[i], 0.02, 0.48, 'call')\n",
    "    Theta_Put [i] = theta(800, 850, T[i], 0.02, 0.48, 'put')"
   ]
  },
  {
   "cell_type": "code",
   "execution_count": null,
   "id": "eec15200",
   "metadata": {},
   "outputs": [],
   "source": [
    "fig = plt.figure()\n",
    "plt.plot(T, Theta_Call, '-')\n",
    "plt.plot(T, Theta_Put, '-')\n",
    "plt.grid()\n",
    "plt.xlabel('Time to Expiry')\n",
    "plt.ylabel('Theta')\n",
    "plt.title('Theta')\n",
    "plt.legend(['Theta for Call', 'Theta for Put'])"
   ]
  },
  {
   "cell_type": "code",
   "execution_count": null,
   "id": "4ab3e128",
   "metadata": {},
   "outputs": [],
   "source": [
    "def vega(S, K, T, r, vol, payoff):\n",
    "    \n",
    "    d1 = (np.log(S / K) + (r + 0.5 * vol ** 2) * T) / (vol * np.sqrt(T))\n",
    "    N_d1_prime=1/np.sqrt(2 * np.pi) * np.exp(-d1**2/2)\n",
    "    vega = S * np.sqrt(T) * N_d1_prime\n",
    "    \n",
    "    return vega"
   ]
  },
  {
   "cell_type": "code",
   "execution_count": null,
   "id": "523f5de6",
   "metadata": {},
   "outputs": [],
   "source": [
    "vol = np.linspace(0.1,0.7,13)\n",
    "Vega = np.zeros((len(vol),1))\n",
    "for i in range(len(vol)):\n",
    "    Vega [i] = vega(800, 850, 1, 0.02, vol[i], 'call')"
   ]
  },
  {
   "cell_type": "code",
   "execution_count": null,
   "id": "0a9bf840",
   "metadata": {},
   "outputs": [],
   "source": [
    "fig = plt.figure()\n",
    "plt.plot(vol, Vega, '-')\n",
    "plt.grid()\n",
    "plt.xlabel('Volatility')\n",
    "plt.ylabel('Vega')\n",
    "plt.title('Vega')\n",
    "plt.legend(['Vega for Call and Put'])"
   ]
  }
 ],
 "metadata": {
  "kernelspec": {
   "display_name": "Python 3 (ipykernel)",
   "language": "python",
   "name": "python3"
  },
  "language_info": {
   "codemirror_mode": {
    "name": "ipython",
    "version": 3
   },
   "file_extension": ".py",
   "mimetype": "text/x-python",
   "name": "python",
   "nbconvert_exporter": "python",
   "pygments_lexer": "ipython3",
   "version": "3.9.12"
  }
 },
 "nbformat": 4,
 "nbformat_minor": 5
}
